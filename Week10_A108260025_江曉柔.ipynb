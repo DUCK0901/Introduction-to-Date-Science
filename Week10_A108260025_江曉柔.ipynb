{
  "nbformat": 4,
  "nbformat_minor": 0,
  "metadata": {
    "colab": {
      "name": "Week10-A108260025-江曉柔.ipynb",
      "provenance": [],
      "include_colab_link": true
    },
    "kernelspec": {
      "name": "python3",
      "display_name": "Python 3"
    }
  },
  "cells": [
    {
      "cell_type": "markdown",
      "metadata": {
        "id": "view-in-github",
        "colab_type": "text"
      },
      "source": [
        "<a href=\"https://colab.research.google.com/github/DUCK0901/Introduction-to-Date-Science/blob/master/Week10_A108260025_%E6%B1%9F%E6%9B%89%E6%9F%94.ipynb\" target=\"_parent\"><img src=\"https://colab.research.google.com/assets/colab-badge.svg\" alt=\"Open In Colab\"/></a>"
      ]
    },
    {
      "cell_type": "code",
      "metadata": {
        "id": "I4_215L0Wdqj",
        "colab_type": "code",
        "colab": {
          "base_uri": "https://localhost:8080/",
          "height": 102
        },
        "outputId": "4c9142c2-937a-42fb-a21f-9229ed354a7f"
      },
      "source": [
        "print(\"You are on a deserted island in a 2D world.\")\n",
        "print(\"Try to survive until rescue arrives!\")\n",
        "print(\"Available commands are in CAPITAL letters.\")\n",
        "print(\"Any other command exits the program\")\n",
        "\n",
        "print(\"First LOOK around...\")"
      ],
      "execution_count": 1,
      "outputs": [
        {
          "output_type": "stream",
          "text": [
            "You are on a deserted island in a 2D world.\n",
            "Try to survive until rescue arrives!\n",
            "Available commands are in CAPITAL letters.\n",
            "Any other command exits the program\n",
            "First LOOK around...\n"
          ],
          "name": "stdout"
        }
      ]
    },
    {
      "cell_type": "code",
      "metadata": {
        "id": "dlo15L5Ja7V6",
        "colab_type": "code",
        "colab": {
          "base_uri": "https://localhost:8080/",
          "height": 306
        },
        "outputId": "c4aa709e-b1c2-4a82-aa81-fa2bac67185f"
      },
      "source": [
        "do = input(\":: \")\n",
        "\n",
        "if do == \"LOOK\":\n",
        "    print(\"You are stuck in a sand ditch.\")\n",
        "    print(\"Crawl out LEFT or RIGHT.\")\n",
        "\n",
        "do = input(\":: \")\n",
        "\n",
        "if do == \"LEFT\":\n",
        "    print(\"You see a STARFISH and a CRAB on the sand.\")\n",
        "    print(\"And you're hungry! Which do you eat?\")\n",
        "\n",
        "do = input(\":: \") \n",
        "\n",
        "if do == \"STARFISH\":\n",
        "    print(\"Oh no! You immediately don't feel well.\")\n",
        "    print(\"You do not survive :(\") \n",
        "       \n",
        "elif do == \"CRAB\":\n",
        "    print(\"Raw crab should be fine, right? YES or NO.\")\n",
        "\n",
        "do = input(\":: \") \n",
        "        \n",
        "if do == \"YES\":\n",
        "    print(\"Ok, You eat it raw. Fingers crossed.\")\n",
        "    print(\"Food in your belly helps you see a TREE.\") \n",
        "\n",
        "do = input(\":: \")\n",
        "\n",
        "if do == \"TREE\":\n",
        "    print(\"It's a coconut tree! And you're thirsty!\")\n",
        "    print(\"Do you drink the coconut water? YES or NO.\")\n",
        "\n",
        "do = input(\":: \")\n",
        "\n",
        "if do == \"YES\":\n",
        "    print(\"Oh boy. Coconut water and raw crab don't mix.\")\n",
        "    print(\"You do not survive :(\") \n",
        "                   \n",
        "elif do == \"NO\":\n",
        "    print(\"Good choice.\")\n",
        "    print(\"Look! It's a rescue plane! You made it! \\o/\") \n",
        "      \n",
        "elif do == \"NO\":\n",
        "    print(\"Well, there's nothing else left to eat.\")\n",
        "    print(\"You do not survive :(\") \n",
        "      \n",
        "elif do == \"RIGHT\": \n",
        "    print(\"No can do. That side is very slippery.\") \n",
        "    print(\"You fall very far into some weird cavern.\") \n",
        "    print(\"You do not survive :(\") \n",
        "\n",
        "else:\n",
        "    print(\"You can only do actions shown in capital letters.\") \n",
        "    print(\"Try again!\")"
      ],
      "execution_count": 4,
      "outputs": [
        {
          "output_type": "stream",
          "text": [
            ":: LOOK\n",
            "You are stuck in a sand ditch.\n",
            "Crawl out LEFT or RIGHT.\n",
            ":: LEFT\n",
            "You see a STARFISH and a CRAB on the sand.\n",
            "And you're hungry! Which do you eat?\n",
            ":: CRAB\n",
            "Raw crab should be fine, right? YES or NO.\n",
            ":: YES\n",
            "Ok, You eat it raw. Fingers crossed.\n",
            "Food in your belly helps you see a TREE.\n",
            ":: TREE\n",
            "It's a coconut tree! And you're thirsty!\n",
            "Do you drink the coconut water? YES or NO.\n",
            ":: YES\n",
            "Oh boy. Coconut water and raw crab don't mix.\n",
            "You do not survive :(\n"
          ],
          "name": "stdout"
        }
      ]
    },
    {
      "cell_type": "code",
      "metadata": {
        "id": "UMnoIRmta7Yu",
        "colab_type": "code",
        "colab": {
          "base_uri": "https://localhost:8080/",
          "height": 68
        },
        "outputId": "2691a06b-0bd5-438d-dce4-baac8b89ce9d"
      },
      "source": [
        "import random\n",
        "\n",
        "my = int(input(\"請出拳 [0] 剪⼑ [1] ⽯頭 [2] 布\"))\n",
        "print(\"我出拳為\", my)\n",
        "\n",
        "computer = random.randint(0, 2)\n",
        "print(\"電腦出拳為\", computer)"
      ],
      "execution_count": 5,
      "outputs": [
        {
          "output_type": "stream",
          "text": [
            "請出拳 [0] 剪⼑ [1] ⽯頭 [2] 布1\n",
            "我出拳為 1\n",
            "電腦出拳為 1\n"
          ],
          "name": "stdout"
        }
      ]
    },
    {
      "cell_type": "code",
      "metadata": {
        "id": "ObDvLcE-a7ba",
        "colab_type": "code",
        "colab": {
          "base_uri": "https://localhost:8080/",
          "height": 34
        },
        "outputId": "8296b6da-54d0-475d-f68b-2b17895afd21"
      },
      "source": [
        "if my == 0:\n",
        "        if computer == 0:\n",
        "            print('平⼿')\n",
        "        elif computer == 1:\n",
        "            print('電腦獲勝')\n",
        "        else:\n",
        "            print('玩家獲勝')\n",
        "elif my == 1:\n",
        "        if computer == 0:\n",
        "            print('玩家獲勝')\n",
        "        elif computer == 1:\n",
        "            print('平⼿')\n",
        "        else:\n",
        "            print('電腦獲勝')\n",
        "else:\n",
        "        if computer == 1:\n",
        "            print('電腦獲勝')\n",
        "        elif computer == 2:\n",
        "            print('玩家獲勝')\n",
        "        else:\n",
        "            print('平⼿')"
      ],
      "execution_count": 7,
      "outputs": [
        {
          "output_type": "stream",
          "text": [
            "平⼿\n"
          ],
          "name": "stdout"
        }
      ]
    },
    {
      "cell_type": "code",
      "metadata": {
        "id": "5pYzjeo8a7d5",
        "colab_type": "code",
        "colab": {
          "base_uri": "https://localhost:8080/",
          "height": 68
        },
        "outputId": "2b56ceb6-1d36-4b21-f84e-f4cc6c5a3fe6"
      },
      "source": [
        "import random\n",
        "\n",
        "my_choice = int(input(\"請出拳 [0] 剪⼑ [1] ⽯頭 [2] 布\"))\n",
        "print(\"我出拳為\", my_choice)\n",
        "\n",
        "com_choice = random.randint(0, 2)\n",
        "print(\"電腦出拳為\", com_choice)"
      ],
      "execution_count": 8,
      "outputs": [
        {
          "output_type": "stream",
          "text": [
            "請出拳 [0] 剪⼑ [1] ⽯頭 [2] 布2\n",
            "我出拳為 2\n",
            "電腦出拳為 1\n"
          ],
          "name": "stdout"
        }
      ]
    },
    {
      "cell_type": "code",
      "metadata": {
        "id": "gtXxsu4Ca7gR",
        "colab_type": "code",
        "colab": {
          "base_uri": "https://localhost:8080/",
          "height": 34
        },
        "outputId": "af9013aa-56a7-46a6-f0ab-0413a62543a6"
      },
      "source": [
        "if my_choice == (com_choice + 1) % 3:\n",
        "    print(\"我贏了\")\n",
        "elif my_choice == com_choice:\n",
        "    print(\"平⼿\")\n",
        "else:\n",
        "    print(\"我輸了\")"
      ],
      "execution_count": 9,
      "outputs": [
        {
          "output_type": "stream",
          "text": [
            "我贏了\n"
          ],
          "name": "stdout"
        }
      ]
    },
    {
      "cell_type": "code",
      "metadata": {
        "id": "15T-mo6Qa7i_",
        "colab_type": "code",
        "colab": {
          "base_uri": "https://localhost:8080/",
          "height": 68
        },
        "outputId": "4adb9d40-9038-402c-e5f4-7b3cc82fb65a"
      },
      "source": [
        "import random\n",
        "\n",
        "my_choice = int(input(\"請出拳 [0] 蟲 [1] 雞 [2] 老虎 [3] 棒⼦\"))\n",
        "print(\"你出的拳:\", my_choice)\n",
        "\n",
        "com_choice = random.randint(0, 3)\n",
        "print(\"電腦出拳為\", com_choice)"
      ],
      "execution_count": 10,
      "outputs": [
        {
          "output_type": "stream",
          "text": [
            "請出拳 [0] 蟲 [1] 雞 [2] 老虎 [3] 棒⼦2\n",
            "你出的拳: 2\n",
            "電腦出拳為 2\n"
          ],
          "name": "stdout"
        }
      ]
    },
    {
      "cell_type": "code",
      "metadata": {
        "id": "EC2u4m5qa7le",
        "colab_type": "code",
        "colab": {
          "base_uri": "https://localhost:8080/",
          "height": 34
        },
        "outputId": "6049c4cb-ffa9-45ba-9b19-33844ae0fa85"
      },
      "source": [
        "if my_choice == (com_choice + 1) % 4:\n",
        "    print(\"我贏了\")\n",
        "elif com_choice == (my_choice + 1) % 4:\n",
        "    print(\"電腦贏了\")\n",
        "else:\n",
        "    print(\"平⼿\")"
      ],
      "execution_count": 11,
      "outputs": [
        {
          "output_type": "stream",
          "text": [
            "平⼿\n"
          ],
          "name": "stdout"
        }
      ]
    },
    {
      "cell_type": "code",
      "metadata": {
        "id": "UCtRVEuDa7oI",
        "colab_type": "code",
        "colab": {
          "base_uri": "https://localhost:8080/",
          "height": 51
        },
        "outputId": "72dd9160-ad58-4684-d6b5-c238bc20c046"
      },
      "source": [
        "eye=float(input(\"請輸入眼睛度數?\"))\n",
        "if eye<0.9:\n",
        "    print('近視')\n",
        "else:\n",
        "    print('視力正常')"
      ],
      "execution_count": 12,
      "outputs": [
        {
          "output_type": "stream",
          "text": [
            "請輸入眼睛度數?0.8\n",
            "近視\n"
          ],
          "name": "stdout"
        }
      ]
    },
    {
      "cell_type": "code",
      "metadata": {
        "id": "EmERQWjza7rA",
        "colab_type": "code",
        "colab": {
          "base_uri": "https://localhost:8080/",
          "height": 51
        },
        "outputId": "19d7552b-b9c6-48cd-c34b-17d8fa22d3fe"
      },
      "source": [
        "year=int(input('請輸入年份?'))\n",
        "if year % 4==0 :\n",
        "  if year % 400==0 :\n",
        "    print(year,\"是閏年\")\n",
        "  elif year % 100==0 :\n",
        "    print(year,\"不是閏年\")\n",
        "  else:\n",
        "    print(year,\"是閏年\")\n",
        "else:\n",
        "    print(year,\"不是閏年\")"
      ],
      "execution_count": 38,
      "outputs": [
        {
          "output_type": "stream",
          "text": [
            "請輸入年份?2012\n",
            "2012 是閏年\n"
          ],
          "name": "stdout"
        }
      ]
    },
    {
      "cell_type": "code",
      "metadata": {
        "id": "gVjxSqGea7tl",
        "colab_type": "code",
        "colab": {}
      },
      "source": [
        ""
      ],
      "execution_count": 0,
      "outputs": []
    }
  ]
}