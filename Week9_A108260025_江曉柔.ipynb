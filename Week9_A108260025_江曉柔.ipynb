{
  "nbformat": 4,
  "nbformat_minor": 0,
  "metadata": {
    "colab": {
      "name": "Week9-A108260025-江曉柔.ipynb",
      "provenance": [],
      "include_colab_link": true
    },
    "kernelspec": {
      "name": "python3",
      "display_name": "Python 3"
    }
  },
  "cells": [
    {
      "cell_type": "markdown",
      "metadata": {
        "id": "view-in-github",
        "colab_type": "text"
      },
      "source": [
        "<a href=\"https://colab.research.google.com/github/DUCK0901/Introduction-to-Date-Science/blob/master/Week9_A108260025_%E6%B1%9F%E6%9B%89%E6%9F%94.ipynb\" target=\"_parent\"><img src=\"https://colab.research.google.com/assets/colab-badge.svg\" alt=\"Open In Colab\"/></a>"
      ]
    },
    {
      "cell_type": "code",
      "metadata": {
        "id": "_hf-mLfvVpYq",
        "colab_type": "code",
        "colab": {
          "base_uri": "https://localhost:8080/",
          "height": 51
        },
        "outputId": "bc4f876e-16a0-445d-a5c1-ab3c443dfc09"
      },
      "source": [
        "score=int(input('請輸入一個成績'))\n",
        "if score >= 60:\n",
        "    print('很好，請繼續保持下去')"
      ],
      "execution_count": 4,
      "outputs": [
        {
          "output_type": "stream",
          "text": [
            "請輸入一個成績88\n",
            "很好，請繼續保持下去\n"
          ],
          "name": "stdout"
        }
      ]
    },
    {
      "cell_type": "code",
      "metadata": {
        "id": "OCV6pEj_hwOV",
        "colab_type": "code",
        "colab": {
          "base_uri": "https://localhost:8080/",
          "height": 51
        },
        "outputId": "7ea07ab2-6f6f-4622-b50a-c502e9cfbf37"
      },
      "source": [
        "score = int(input('請輸入⼀個成績？'))\n",
        "if score >= 60:\n",
        "    print('有及格ㄡ～')\n",
        "else:\n",
        "    print('不及格ㄟ！')"
      ],
      "execution_count": 6,
      "outputs": [
        {
          "output_type": "stream",
          "text": [
            "請輸入⼀個成績？50\n",
            "不及格ㄟ！\n"
          ],
          "name": "stdout"
        }
      ]
    },
    {
      "cell_type": "code",
      "metadata": {
        "id": "USD6NSeFhwLp",
        "colab_type": "code",
        "colab": {
          "base_uri": "https://localhost:8080/",
          "height": 51
        },
        "outputId": "30f9310b-c827-4096-a56f-abe9f35d335a"
      },
      "source": [
        "score = int(input('請輸入⼀個成績？'))\n",
        "if score >= 80:\n",
        "    print('非常好')\n",
        "elif score >= 60:\n",
        "    print('不錯喔')\n",
        "else:\n",
        "    print('要加油')"
      ],
      "execution_count": 7,
      "outputs": [
        {
          "output_type": "stream",
          "text": [
            "請輸入⼀個成績？66\n",
            "不錯喔\n"
          ],
          "name": "stdout"
        }
      ]
    },
    {
      "cell_type": "code",
      "metadata": {
        "id": "1AWZXxq8hwJJ",
        "colab_type": "code",
        "colab": {
          "base_uri": "https://localhost:8080/",
          "height": 68
        },
        "outputId": "154ea82c-2e07-482c-f4cd-668a5ea9127c"
      },
      "source": [
        "x = float(input('請輸入該點的X座標？'))\n",
        "y = float(input('請輸入該點的Y座標？'))\n",
        "if (x > 0):\n",
        "  if (y > 0):\n",
        "    print('該點在第⼀象限')\n",
        "  else:\n",
        "    print('該點在第四象限')\n",
        "else:\n",
        "  if (y > 0):\n",
        "    print('該點在第⼆象限')\n",
        "  else:\n",
        "    print('該點在第三象限')"
      ],
      "execution_count": 8,
      "outputs": [
        {
          "output_type": "stream",
          "text": [
            "請輸入該點的X座標？1\n",
            "請輸入該點的Y座標？1\n",
            "該點在第⼀象限\n"
          ],
          "name": "stdout"
        }
      ]
    },
    {
      "cell_type": "code",
      "metadata": {
        "id": "FshgV9oihwGp",
        "colab_type": "code",
        "colab": {
          "base_uri": "https://localhost:8080/",
          "height": 51
        },
        "outputId": "3f39c260-fad4-4ccd-c6f2-e4a1f2b74205"
      },
      "source": [
        "cost = int(input('請輸入購買⾦額？'))\n",
        "if cost >= 2000:\n",
        "    print(cost * 0.9)\n",
        "else:\n",
        "    print(cost)"
      ],
      "execution_count": 9,
      "outputs": [
        {
          "output_type": "stream",
          "text": [
            "請輸入購買⾦額？2000\n",
            "1800.0\n"
          ],
          "name": "stdout"
        }
      ]
    },
    {
      "cell_type": "code",
      "metadata": {
        "id": "DUiFrevWhvtK",
        "colab_type": "code",
        "colab": {
          "base_uri": "https://localhost:8080/",
          "height": 51
        },
        "outputId": "fd8aacab-184f-471b-f993-2d09a66f01e9"
      },
      "source": [
        "num = int(input('請輸入⼀個整數？'))\n",
        "if num % 2 == 0:\n",
        "    print(num, '為偶數')\n",
        "else:\n",
        "    print(num, '為奇數')"
      ],
      "execution_count": 10,
      "outputs": [
        {
          "output_type": "stream",
          "text": [
            "請輸入⼀個整數？13\n",
            "13 為奇數\n"
          ],
          "name": "stdout"
        }
      ]
    },
    {
      "cell_type": "code",
      "metadata": {
        "id": "aD_4MiUnlKvV",
        "colab_type": "code",
        "colab": {
          "base_uri": "https://localhost:8080/",
          "height": 51
        },
        "outputId": "a7f9731f-7a08-427d-ce48-b14d6ad6ac0d"
      },
      "source": [
        "num = int(input('請輸入⼀個整數？'))\n",
        "if num % 2 == 1: \n",
        "    print(num, '為奇數')\n",
        "else:\n",
        "    print(num, '為偶數')"
      ],
      "execution_count": 11,
      "outputs": [
        {
          "output_type": "stream",
          "text": [
            "請輸入⼀個整數？13\n",
            "13 為奇數\n"
          ],
          "name": "stdout"
        }
      ]
    },
    {
      "cell_type": "code",
      "metadata": {
        "id": "d9jgLV4glW0M",
        "colab_type": "code",
        "colab": {
          "base_uri": "https://localhost:8080/",
          "height": 85
        },
        "outputId": "83e9b0be-6784-4298-e72c-c5629b95f587"
      },
      "source": [
        "a = int(input('請輸入三⾓形邊長a長度為？'))\n",
        "b = int(input('請輸入三⾓形邊長b長度為？'))\n",
        "c = int(input('請輸入三⾓形邊長c長度為？'))\n",
        "\n",
        "if (a<b+c)and(b<a+c)and(c<a+b): \n",
        "    print('可構成三⾓形')\n",
        "else:\n",
        "    print('無法構成三⾓形')"
      ],
      "execution_count": 12,
      "outputs": [
        {
          "output_type": "stream",
          "text": [
            "請輸入三⾓形邊長a長度為？11\n",
            "請輸入三⾓形邊長b長度為？12\n",
            "請輸入三⾓形邊長c長度為？13\n",
            "可構成三⾓形\n"
          ],
          "name": "stdout"
        }
      ]
    },
    {
      "cell_type": "code",
      "metadata": {
        "id": "-JAIEAnslXIl",
        "colab_type": "code",
        "colab": {
          "base_uri": "https://localhost:8080/",
          "height": 85
        },
        "outputId": "44e61a80-d663-4dbd-82d5-2ea79ca99c7f"
      },
      "source": [
        "w = float(input('請輸入體重(KG)？')) \n",
        "h = float(input('請輸入⾝⾼(M)？'))\n",
        "bmi = w/(h*h) \n",
        "print('BMI為', bmi)\n",
        "\n",
        "if bmi < 18:\n",
        "    print('體重過輕')\n",
        "elif bmi < 24:\n",
        "    print('體重正常')\n",
        "elif bmi < 27:\n",
        "    print('體重過重')\n",
        "else:\n",
        "    print('體重肥胖')"
      ],
      "execution_count": 13,
      "outputs": [
        {
          "output_type": "stream",
          "text": [
            "請輸入體重(KG)？75\n",
            "請輸入⾝⾼(M)？1.7\n",
            "BMI為 25.95155709342561\n",
            "體重過重\n"
          ],
          "name": "stdout"
        }
      ]
    },
    {
      "cell_type": "code",
      "metadata": {
        "id": "3pcVV4-flXLY",
        "colab_type": "code",
        "colab": {}
      },
      "source": [
        ""
      ],
      "execution_count": 0,
      "outputs": []
    },
    {
      "cell_type": "code",
      "metadata": {
        "id": "UBqbm6JJlXOH",
        "colab_type": "code",
        "colab": {}
      },
      "source": [
        ""
      ],
      "execution_count": 0,
      "outputs": []
    }
  ]
}