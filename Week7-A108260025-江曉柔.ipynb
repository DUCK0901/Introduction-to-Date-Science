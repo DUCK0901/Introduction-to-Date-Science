{
  "nbformat": 4,
  "nbformat_minor": 0,
  "metadata": {
    "colab": {
      "name": "Untitled0.ipynb",
      "provenance": [],
      "collapsed_sections": [],
      "include_colab_link": true
    },
    "kernelspec": {
      "name": "python3",
      "display_name": "Python 3"
    }
  },
  "cells": [
    {
      "cell_type": "markdown",
      "metadata": {
        "id": "view-in-github",
        "colab_type": "text"
      },
      "source": [
        "<a href=\"https://colab.research.google.com/github/DUCK0901/Introduction-to-Date-Science/blob/master/Week7-A108260025-%E6%B1%9F%E6%9B%89%E6%9F%94.ipynb\" target=\"_parent\"><img src=\"https://colab.research.google.com/assets/colab-badge.svg\" alt=\"Open In Colab\"/></a>"
      ]
    },
    {
      "cell_type": "code",
      "metadata": {
        "id": "A3flMv0rLI2U",
        "colab_type": "code",
        "colab": {
          "base_uri": "https://localhost:8080/",
          "height": 102
        },
        "outputId": "e69e0ebe-dd75-41ca-f1f1-36184a80c438"
      },
      "source": [
        "player = \"Ron Harper\"\n",
        "player_list = [\"Ron Harper\", \"Michael Jordan\", \"Scottie Pippen\", \"Dennis Rodman\"\n",
        ", \"LucLongley\"]\n",
        "player_tuple = tuple(player_list)\n",
        "player_dict = {\n",
        "\"PG\": \"Ron Harper\",\n",
        "\"SG\": \"Michael Jordan\",\n",
        "\"SF\": \"Scottie Pippen\",\n",
        "\"PF\": \"Dennis Rodman\",\n",
        "\"C\": \"Luc Longley\"\n",
        "}\n",
        "player_set = set(player_list)\n",
        "print(type(player))\n",
        "print(type(player_list))\n",
        "print(type(player_tuple))\n",
        "print(type(player_dict))\n",
        "print(type(player_set))"
      ],
      "execution_count": 7,
      "outputs": [
        {
          "output_type": "stream",
          "text": [
            "<class 'str'>\n",
            "<class 'list'>\n",
            "<class 'tuple'>\n",
            "<class 'dict'>\n",
            "<class 'set'>\n"
          ],
          "name": "stdout"
        }
      ]
    },
    {
      "cell_type": "code",
      "metadata": {
        "id": "Xs-LvGTpRX3n",
        "colab_type": "code",
        "colab": {
          "base_uri": "https://localhost:8080/",
          "height": 136
        },
        "outputId": "eb3edf8f-394b-4217-8b8d-6a4fd2a1dbb6"
      },
      "source": [
        "s1='春眠不覺曉,處處聞啼鳥。'\n",
        "print(s1)\n",
        "s2='夜來風雨聲,花落知多少。'\n",
        "print(s2)\n",
        "s3='作者\"孟浩然\"詩名\"春曉\"'\n",
        "print(s3)\n",
        "s4=\"作者'孟浩然'詩名'春曉'\"\n",
        "print(s4)\n",
        "s5='''春眠不覺曉，處處聞啼鳥。\n",
        "      夜來風雨聲，花落知多少。作者\"孟浩然\"詩名\"春曉\"\n",
        "'''\n",
        "print(s5)"
      ],
      "execution_count": 9,
      "outputs": [
        {
          "output_type": "stream",
          "text": [
            "春眠不覺曉,處處聞啼鳥。\n",
            "夜來風雨聲,花落知多少。\n",
            "作者\"孟浩然\"詩名\"春曉\"\n",
            "作者'孟浩然'詩名'春曉'\n",
            "春眠不覺曉，處處聞啼鳥。\n",
            "      夜來風雨聲，花落知多少。作者\"孟浩然\"詩名\"春曉\"\n",
            "\n"
          ],
          "name": "stdout"
        }
      ]
    },
    {
      "cell_type": "code",
      "metadata": {
        "id": "uomsX0WQRX09",
        "colab_type": "code",
        "colab": {
          "base_uri": "https://localhost:8080/",
          "height": 102
        },
        "outputId": "482b993b-76ec-4276-896c-e8add669c7f3"
      },
      "source": [
        "s1=\"123\"\n",
        "s2=\"456\"\n",
        "s3=s1+s2\n",
        "print(s3)\n",
        "s4=s1*2\n",
        "print(s4)\n",
        "s5='春眠不覺曉，處處聞啼鳥。\\n\\\n",
        "夜來風雨聲，花落知多少。\\n\\\n",
        "\\t作者\"孟浩然\"詩名\"春曉\"'\n",
        "print(s5)"
      ],
      "execution_count": 10,
      "outputs": [
        {
          "output_type": "stream",
          "text": [
            "123456\n",
            "123123\n",
            "春眠不覺曉，處處聞啼鳥。\n",
            "夜來風雨聲，花落知多少。\n",
            "\t作者\"孟浩然\"詩名\"春曉\"\n"
          ],
          "name": "stdout"
        }
      ]
    },
    {
      "cell_type": "code",
      "metadata": {
        "id": "flgjS2SeRXyW",
        "colab_type": "code",
        "colab": {
          "base_uri": "https://localhost:8080/",
          "height": 170
        },
        "outputId": "2d33c4d2-f055-4eeb-ba62-3d6f19b3683b"
      },
      "source": [
        "s='123456789'\n",
        "print(s[0])\n",
        "print(s[1])\n",
        "print(s[-1])\n",
        "print(s[-2])\n",
        "s='0123456789'\n",
        "print('s=',s)\n",
        "print('s[0]',s[0])\n",
        "print('s[1]',s[1])\n",
        "print('s[-1]',s[-1])\n",
        "print('s[-2]',s[-2])"
      ],
      "execution_count": 11,
      "outputs": [
        {
          "output_type": "stream",
          "text": [
            "1\n",
            "2\n",
            "9\n",
            "8\n",
            "s= 0123456789\n",
            "s[0] 0\n",
            "s[1] 1\n",
            "s[-1] 9\n",
            "s[-2] 8\n"
          ],
          "name": "stdout"
        }
      ]
    },
    {
      "cell_type": "code",
      "metadata": {
        "id": "JuUoWkwARXvv",
        "colab_type": "code",
        "colab": {
          "base_uri": "https://localhost:8080/",
          "height": 204
        },
        "outputId": "6f5d4832-3c54-4e71-ea79-82e33051a856"
      },
      "source": [
        "print('s=',s,'s[:]=',s[:])\n",
        "print('s=', s, 's[5:]=', s[5:])\n",
        "print('s=', s, 's[-2:]=', s[-2:])\n",
        "print('s=', s, 's[:5]=', s[:5])\n",
        "print('s=', s, 's[:-2]=', s[:-2])\n",
        "print('s=', s, 's[7:9]=', s[7:9])\n",
        "print('s=', s, 's[-4:-1]=', s[-4:-1])\n",
        "print('s=', s, 's[5:-2]=', s[5:-2])\n",
        "print('s=', s, 's[2:10:2]=', s[2:10:2])\n",
        "print('s=', s, 's[::-1]=', s[::-1])\n",
        "print('s=', s, 's[-1::-1]=', s[-1::-1])"
      ],
      "execution_count": 12,
      "outputs": [
        {
          "output_type": "stream",
          "text": [
            "s= 0123456789 s[:]= 0123456789\n",
            "s= 0123456789 s[5:]= 56789\n",
            "s= 0123456789 s[-2:]= 89\n",
            "s= 0123456789 s[:5]= 01234\n",
            "s= 0123456789 s[:-2]= 01234567\n",
            "s= 0123456789 s[7:9]= 78\n",
            "s= 0123456789 s[-4:-1]= 678\n",
            "s= 0123456789 s[5:-2]= 567\n",
            "s= 0123456789 s[2:10:2]= 2468\n",
            "s= 0123456789 s[::-1]= 9876543210\n",
            "s= 0123456789 s[-1::-1]= 9876543210\n"
          ],
          "name": "stdout"
        }
      ]
    },
    {
      "cell_type": "code",
      "metadata": {
        "id": "KXtjNutQRXsn",
        "colab_type": "code",
        "colab": {
          "base_uri": "https://localhost:8080/",
          "height": 68
        },
        "outputId": "b9969c6e-f298-4ba8-b47a-7472f7b512d8"
      },
      "source": [
        "s = '春眠不覺曉,處處聞啼鳥,夜來風雨聲,花落知多少。'\n",
        "print(len(s))\n",
        "s1='春眠不覺曉,處處聞啼鳥,夜來風雨聲,花落知多少。'\n",
        "list1=s1.split(',')\n",
        "print(list1)\n",
        "list1 = ['春眠不覺曉','處處聞啼鳥','夜來風雨聲','花落知多少。']\n",
        "s2=','.join(list1)\n",
        "print(s2)"
      ],
      "execution_count": 13,
      "outputs": [
        {
          "output_type": "stream",
          "text": [
            "24\n",
            "['春眠不覺曉', '處處聞啼鳥', '夜來風雨聲', '花落知多少。']\n",
            "春眠不覺曉,處處聞啼鳥,夜來風雨聲,花落知多少。\n"
          ],
          "name": "stdout"
        }
      ]
    },
    {
      "cell_type": "code",
      "metadata": {
        "id": "hm38tumlRXh3",
        "colab_type": "code",
        "colab": {
          "base_uri": "https://localhost:8080/",
          "height": 68
        },
        "outputId": "049fb573-52b0-4ad7-cc4e-6e1ced19d26b"
      },
      "source": [
        "s1='春眠不覺曉,處處聞啼鳥,夜來風雨聲,花落知多少。'\n",
        "print(s1.find('花落'))\n",
        "print(s1.count('處'))\n",
        "s3=s1.replace('春','冬')\n",
        "print(s3)"
      ],
      "execution_count": 14,
      "outputs": [
        {
          "output_type": "stream",
          "text": [
            "18\n",
            "2\n",
            "冬眠不覺曉,處處聞啼鳥,夜來風雨聲,花落知多少。\n"
          ],
          "name": "stdout"
        }
      ]
    },
    {
      "cell_type": "code",
      "metadata": {
        "id": "H4f3CPD6W2dO",
        "colab_type": "code",
        "colab": {
          "base_uri": "https://localhost:8080/",
          "height": 102
        },
        "outputId": "f9b44e45-283a-4097-cb96-90933c36d098"
      },
      "source": [
        "s1='An apple a day.'\n",
        "print(s1.capitalize())\n",
        "print(s1.title())\n",
        "print(s1.swapcase())\n",
        "print(s1.upper())\n",
        "print(s1.lower())"
      ],
      "execution_count": 15,
      "outputs": [
        {
          "output_type": "stream",
          "text": [
            "An apple a day.\n",
            "An Apple A Day.\n",
            "aN APPLE A DAY.\n",
            "AN APPLE A DAY.\n",
            "an apple a day.\n"
          ],
          "name": "stdout"
        }
      ]
    },
    {
      "cell_type": "code",
      "metadata": {
        "id": "v5j1ROZlW2aw",
        "colab_type": "code",
        "colab": {
          "base_uri": "https://localhost:8080/",
          "height": 170
        },
        "outputId": "7e20e2b6-f5a8-4c00-f407-c6ed837a0dae"
      },
      "source": [
        "s1='春眠不覺曉,處處聞啼鳥,夜來風雨聲,花落知多少。'\n",
        "print(s1.startswith('春眠'))\n",
        "print(s1.endswith('多少。'))\n",
        "\n",
        "s1='春眠不覺曉'\n",
        "print(s1.center(10))\n",
        "print(s1.rjust(10))\n",
        "print(s1.ljust(10))\n",
        "s1='123'\n",
        "print(s1.zfill(5))\n",
        "s1=' Hello,Mary. '\n",
        "print(s1.strip())\n",
        "print(s1.lstrip(' H'))\n",
        "print(s1.rstrip(' .'))"
      ],
      "execution_count": 16,
      "outputs": [
        {
          "output_type": "stream",
          "text": [
            "True\n",
            "True\n",
            "  春眠不覺曉   \n",
            "     春眠不覺曉\n",
            "春眠不覺曉     \n",
            "00123\n",
            "Hello,Mary.\n",
            "ello,Mary. \n",
            " Hello,Mary\n"
          ],
          "name": "stdout"
        }
      ]
    },
    {
      "cell_type": "code",
      "metadata": {
        "id": "zVbNyCELW2Yi",
        "colab_type": "code",
        "colab": {
          "base_uri": "https://localhost:8080/",
          "height": 119
        },
        "outputId": "f59a0a0c-431a-4959-9b2b-6a0f65518728"
      },
      "source": [
        "t1 = ()\n",
        "print(t1)\n",
        "t2 = 1, 2 ,3\n",
        "print(t2)\n",
        "t3 = (1, 2, 3)\n",
        "print(t3)\n",
        "list1=[1,2,3,4] \n",
        "t4 = tuple(list1)\n",
        "print(t4)\n",
        "t4 = (1,2,3,4)\n",
        "t5 = (t4,5,6)\n",
        "print(t5)\n",
        "t6 = ('z', ) \n",
        "print(t6)"
      ],
      "execution_count": 21,
      "outputs": [
        {
          "output_type": "stream",
          "text": [
            "()\n",
            "(1, 2, 3)\n",
            "(1, 2, 3)\n",
            "(1, 2, 3, 4)\n",
            "((1, 2, 3, 4), 5, 6)\n",
            "('z',)\n"
          ],
          "name": "stdout"
        }
      ]
    },
    {
      "cell_type": "code",
      "metadata": {
        "id": "EeOjHFsLW2V3",
        "colab_type": "code",
        "colab": {
          "base_uri": "https://localhost:8080/",
          "height": 68
        },
        "outputId": "fa00c4a9-496e-4a99-afb1-4adf824aa218"
      },
      "source": [
        "t3=(1,2,3)\n",
        "print(t3[0])\n",
        "t4=(1,2,3,4)\n",
        "t5=(t4,5,6)\n",
        "print(len(t5))\n",
        "print(t5[0][0])"
      ],
      "execution_count": 22,
      "outputs": [
        {
          "output_type": "stream",
          "text": [
            "1\n",
            "3\n",
            "1\n"
          ],
          "name": "stdout"
        }
      ]
    },
    {
      "cell_type": "code",
      "metadata": {
        "id": "JbQWrqudW2Te",
        "colab_type": "code",
        "colab": {
          "base_uri": "https://localhost:8080/",
          "height": 68
        },
        "outputId": "cfd79894-1134-4507-90b1-39a9ccdfed22"
      },
      "source": [
        "t3=(1,2,3)\n",
        "a,b,c=t3\n",
        "print('a=',a,'b=',b,',c=',c)\n",
        "a=10\n",
        "b=20\n",
        "print('交換前','a=',a,',b=',b)\n",
        "a,b=b,a\n",
        "print('交換後','a=',a,',b=',b)"
      ],
      "execution_count": 26,
      "outputs": [
        {
          "output_type": "stream",
          "text": [
            "a= 1 b= 2 ,c= 3\n",
            "交換前 a= 10 ,b= 20\n",
            "交換後 a= 20 ,b= 10\n"
          ],
          "name": "stdout"
        }
      ]
    },
    {
      "cell_type": "code",
      "metadata": {
        "id": "7pMydPJbW2RG",
        "colab_type": "code",
        "colab": {
          "base_uri": "https://localhost:8080/",
          "height": 119
        },
        "outputId": "a2fb4240-2483-448e-afa3-bec3afba08f5"
      },
      "source": [
        "shoplist = ['牛奶', '蛋', '咖啡豆', '西瓜', '鳳梨']\n",
        "print('購物清單shoplist為')\n",
        "print(shoplist)\n",
        "listm = [1, 2.0, 'Python']\n",
        "print(\"串列可以包含各種資料型別的元素\")\n",
        "print(listm)\n",
        "list1 = list('python')\n",
        "print(list1)\n",
        "tuple2 = ('a', 'b', 1, 2)\n",
        "list2 = list(tuple2)\n",
        "print(list2)"
      ],
      "execution_count": 27,
      "outputs": [
        {
          "output_type": "stream",
          "text": [
            "購物清單shoplist為\n",
            "['牛奶', '蛋', '咖啡豆', '西瓜', '鳳梨']\n",
            "串列可以包含各種資料型別的元素\n",
            "[1, 2.0, 'Python']\n",
            "['p', 'y', 't', 'h', 'o', 'n']\n",
            "['a', 'b', 1, 2]\n"
          ],
          "name": "stdout"
        }
      ]
    },
    {
      "cell_type": "code",
      "metadata": {
        "id": "2Okv3m4YW2Oi",
        "colab_type": "code",
        "colab": {
          "base_uri": "https://localhost:8080/",
          "height": 51
        },
        "outputId": "e715684e-6a9e-4d86-936d-4c0c102510df"
      },
      "source": [
        "shoplist=['牛奶','蛋','咖啡豆','西瓜','鳳梨']\n",
        "print('購物清shoplist的長度',len(shoplist))\n",
        "shoplist1=['牛奶','蛋','咖啡豆']\n",
        "shoplist2=['西瓜','鳳梨']\n",
        "shoplist_all=shoplist1+shoplist2\n",
        "print(shoplist_all)"
      ],
      "execution_count": 28,
      "outputs": [
        {
          "output_type": "stream",
          "text": [
            "購物清shoplist的長度 5\n",
            "['牛奶', '蛋', '咖啡豆', '西瓜', '鳳梨']\n"
          ],
          "name": "stdout"
        }
      ]
    },
    {
      "cell_type": "code",
      "metadata": {
        "id": "dgZA_rN4W2ME",
        "colab_type": "code",
        "colab": {
          "base_uri": "https://localhost:8080/",
          "height": 340
        },
        "outputId": "74018904-119a-49cc-e10f-97468e4a5b3c"
      },
      "source": [
        "shoplist=['牛奶','蛋','咖啡豆','西瓜','鳳梨']\n",
        "print('顯示shoplist[0]為',shoplist[0])\n",
        "index=shoplist.index('咖啡豆')\n",
        "print(\"執行 index=shoplist.index('咖啡豆') 後\")\n",
        "print('index=', index)\n",
        "shoplist[1] = '皮蛋'\n",
        "print(\"執行 shoplist[1] = '皮蛋'後\")\n",
        "print(shoplist)\n",
        "a = list('abcdefghijk')\n",
        "print('a[:]為', a[:])\n",
        "print('a[:5]為', a[:5])\n",
        "print('a[5:]為', a[5:])\n",
        "print('a[:-5]為', a[:-5])\n",
        "print('a[-5:]為', a[-5:])\n",
        "print('a[0:4]為', a[0:4])\n",
        "print('a[-5:-3]為', a[-5:-3])\n",
        "print('a[1:10:3]為', a[1:10:3])\n",
        "print('a[-1:-4:-1]為', a[-1:-4:-1])\n",
        "print('a[::-1]為', a[::-1])\n",
        "shoplist = ['milk', 'egg', 'coffee', 'watermelon']\n",
        "for item in shoplist:\n",
        "    print(item)"
      ],
      "execution_count": 30,
      "outputs": [
        {
          "output_type": "stream",
          "text": [
            "顯示shoplist[0]為 牛奶\n",
            "執行 index=shoplist.index('咖啡豆') 後\n",
            "index= 2\n",
            "執行 shoplist[1] = '皮蛋'後\n",
            "['牛奶', '皮蛋', '咖啡豆', '西瓜', '鳳梨']\n",
            "a[:]為 ['a', 'b', 'c', 'd', 'e', 'f', 'g', 'h', 'i', 'j', 'k']\n",
            "a[:5]為 ['a', 'b', 'c', 'd', 'e']\n",
            "a[5:]為 ['f', 'g', 'h', 'i', 'j', 'k']\n",
            "a[:-5]為 ['a', 'b', 'c', 'd', 'e', 'f']\n",
            "a[-5:]為 ['g', 'h', 'i', 'j', 'k']\n",
            "a[0:4]為 ['a', 'b', 'c', 'd']\n",
            "a[-5:-3]為 ['g', 'h']\n",
            "a[1:10:3]為 ['b', 'e', 'h']\n",
            "a[-1:-4:-1]為 ['k', 'j', 'i']\n",
            "a[::-1]為 ['k', 'j', 'i', 'h', 'g', 'f', 'e', 'd', 'c', 'b', 'a']\n",
            "milk\n",
            "egg\n",
            "coffee\n",
            "watermelon\n"
          ],
          "name": "stdout"
        }
      ]
    },
    {
      "cell_type": "code",
      "metadata": {
        "id": "Ciw6Z6Loe_9g",
        "colab_type": "code",
        "colab": {
          "base_uri": "https://localhost:8080/",
          "height": 289
        },
        "outputId": "0819336a-1838-44ce-9450-e945cfd33c78"
      },
      "source": [
        "shoplist = ['牛奶', '蛋', '咖啡豆', '西瓜', '鳳梨']\n",
        "shoplist.append('麵包')\n",
        "print(\"執行 shoplist.append('麵包')後\")\n",
        "print(shoplist)\n",
        "shoplist.insert(4, '蘋果')\n",
        "print(\"執行 shoplist.insert(4, '蘋果') 後\")\n",
        "print(shoplist)\n",
        "shoplist.remove('蛋')\n",
        "print(\"執行 shoplist.remove('蛋') 後\")\n",
        "print(shoplist)\n",
        "del shoplist[0]\n",
        "print(\"執行 del shoplist[0] 後\")\n",
        "print(shoplist)\n",
        "shoplist.pop(0)\n",
        "print(\"執行 shoplist.pop(0) 後\")\n",
        "print(shoplist)\n",
        "shoplist.pop()\n",
        "print(\"執行 shoplist.pop() 後\")\n",
        "print(shoplist)\n",
        "shoplist.pop(-1)\n",
        "print(\"執行 shoplist.pop(-1) 後\")\n",
        "print(shoplist)\n",
        "shoplist = ['milk', 'egg', 'coffee', 'watermelon']\n",
        "shoplist.sort() \n",
        "print(\"執行 shoplist.sort() 後\")\n",
        "print(shoplist)"
      ],
      "execution_count": 31,
      "outputs": [
        {
          "output_type": "stream",
          "text": [
            "執行 shoplist.append('麵包')後\n",
            "['牛奶', '蛋', '咖啡豆', '西瓜', '鳳梨', '麵包']\n",
            "執行 shoplist.insert(4, '蘋果') 後\n",
            "['牛奶', '蛋', '咖啡豆', '西瓜', '蘋果', '鳳梨', '麵包']\n",
            "執行 shoplist.remove('蛋') 後\n",
            "['牛奶', '咖啡豆', '西瓜', '蘋果', '鳳梨', '麵包']\n",
            "執行 del shoplist[0] 後\n",
            "['咖啡豆', '西瓜', '蘋果', '鳳梨', '麵包']\n",
            "執行 shoplist.pop(0) 後\n",
            "['西瓜', '蘋果', '鳳梨', '麵包']\n",
            "執行 shoplist.pop() 後\n",
            "['西瓜', '蘋果', '鳳梨']\n",
            "執行 shoplist.pop(-1) 後\n",
            "['西瓜', '蘋果']\n",
            "執行 shoplist.sort() 後\n",
            "['coffee', 'egg', 'milk', 'watermelon']\n"
          ],
          "name": "stdout"
        }
      ]
    }
  ]
}