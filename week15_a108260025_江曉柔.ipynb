{
  "nbformat": 4,
  "nbformat_minor": 0,
  "metadata": {
    "colab": {
      "name": "week15-a108260025-江曉柔.ipynb",
      "provenance": [],
      "include_colab_link": true
    },
    "kernelspec": {
      "name": "python3",
      "display_name": "Python 3"
    }
  },
  "cells": [
    {
      "cell_type": "markdown",
      "metadata": {
        "id": "view-in-github",
        "colab_type": "text"
      },
      "source": [
        "<a href=\"https://colab.research.google.com/github/DUCK0901/Introduction-to-Date-Science/blob/master/week15_a108260025_%E6%B1%9F%E6%9B%89%E6%9F%94.ipynb\" target=\"_parent\"><img src=\"https://colab.research.google.com/assets/colab-badge.svg\" alt=\"Open In Colab\"/></a>"
      ]
    },
    {
      "cell_type": "code",
      "metadata": {
        "id": "Nx4ZEt46yHAw",
        "colab_type": "code",
        "colab": {
          "base_uri": "https://localhost:8080/",
          "height": 187
        },
        "outputId": "b8b3785b-9f6b-44e7-d813-eb17ea6307e7"
      },
      "source": [
        "x = 0 \n",
        "while x < 10: \n",
        "    print(\"hello\")\n",
        "    x = x + 1 "
      ],
      "execution_count": 1,
      "outputs": [
        {
          "output_type": "stream",
          "text": [
            "hello\n",
            "hello\n",
            "hello\n",
            "hello\n",
            "hello\n",
            "hello\n",
            "hello\n",
            "hello\n",
            "hello\n",
            "hello\n"
          ],
          "name": "stdout"
        }
      ]
    },
    {
      "cell_type": "code",
      "metadata": {
        "id": "dNLuPYFjyb_j",
        "colab_type": "code",
        "colab": {
          "base_uri": "https://localhost:8080/",
          "height": 187
        },
        "outputId": "bd0e2b06-a42b-4c46-8526-214c76f66a82"
      },
      "source": [
        "times = 0 \n",
        "while times < 10:\n",
        "    times = times + 1 \n",
        "    print(\"這是第\", times, \"次的hello\")"
      ],
      "execution_count": 2,
      "outputs": [
        {
          "output_type": "stream",
          "text": [
            "這是第 1 次的hello\n",
            "這是第 2 次的hello\n",
            "這是第 3 次的hello\n",
            "這是第 4 次的hello\n",
            "這是第 5 次的hello\n",
            "這是第 6 次的hello\n",
            "這是第 7 次的hello\n",
            "這是第 8 次的hello\n",
            "這是第 9 次的hello\n",
            "這是第 10 次的hello\n"
          ],
          "name": "stdout"
        }
      ]
    },
    {
      "cell_type": "code",
      "metadata": {
        "id": "zKVhWD_-ykj1",
        "colab_type": "code",
        "colab": {
          "base_uri": "https://localhost:8080/",
          "height": 357
        },
        "outputId": "cc3e2e82-5ee0-4962-958c-16635bec113b"
      },
      "source": [
        "times = 0 \n",
        "left = 0 \n",
        "while times < 10: \n",
        "    times = times + 1 \n",
        "    print(\"這是第\", times, \"次的hello\")\n",
        "    left = 10 - times \n",
        "    print(\"還有\", left, \"次機會\")"
      ],
      "execution_count": 3,
      "outputs": [
        {
          "output_type": "stream",
          "text": [
            "這是第 1 次的hello\n",
            "還有 9 次機會\n",
            "這是第 2 次的hello\n",
            "還有 8 次機會\n",
            "這是第 3 次的hello\n",
            "還有 7 次機會\n",
            "這是第 4 次的hello\n",
            "還有 6 次機會\n",
            "這是第 5 次的hello\n",
            "還有 5 次機會\n",
            "這是第 6 次的hello\n",
            "還有 4 次機會\n",
            "這是第 7 次的hello\n",
            "還有 3 次機會\n",
            "這是第 8 次的hello\n",
            "還有 2 次機會\n",
            "這是第 9 次的hello\n",
            "還有 1 次機會\n",
            "這是第 10 次的hello\n",
            "還有 0 次機會\n"
          ],
          "name": "stdout"
        }
      ]
    },
    {
      "cell_type": "code",
      "metadata": {
        "id": "G8Vdw0M3yunQ",
        "colab_type": "code",
        "colab": {
          "base_uri": "https://localhost:8080/",
          "height": 34
        },
        "outputId": "d265ebf3-d248-4fbd-98d4-b46e045b0f46"
      },
      "source": [
        "x = 0 \n",
        "result = 0\n",
        "\n",
        "while x < 10: \n",
        "    x = x + 1 \n",
        "    result = result + x\n",
        "    \n",
        "print(\"答案是：\", result)"
      ],
      "execution_count": 4,
      "outputs": [
        {
          "output_type": "stream",
          "text": [
            "答案是： 55\n"
          ],
          "name": "stdout"
        }
      ]
    },
    {
      "cell_type": "code",
      "metadata": {
        "id": "CauojWwUyukN",
        "colab_type": "code",
        "colab": {
          "base_uri": "https://localhost:8080/",
          "height": 34
        },
        "outputId": "4f676cec-8820-4e7a-ec7f-ccb4e5ecd903"
      },
      "source": [
        "x = 0 \n",
        "result = 0\n",
        "end = 50\n",
        "\n",
        "while result <= end: \n",
        "    x = x + 1 \n",
        "    result = result + x\n",
        "print(\"最後加的X是\", x)"
      ],
      "execution_count": 5,
      "outputs": [
        {
          "output_type": "stream",
          "text": [
            "最後加的X是 10\n"
          ],
          "name": "stdout"
        }
      ]
    },
    {
      "cell_type": "code",
      "metadata": {
        "id": "gm18ebl-yujQ",
        "colab_type": "code",
        "colab": {
          "base_uri": "https://localhost:8080/",
          "height": 34
        },
        "outputId": "b1e921c5-b428-4da2-a077-a87c9aa4557d"
      },
      "source": [
        "sum = 0 \n",
        "x = 1\n",
        "\n",
        "while x < 11: \n",
        "    sum = sum + x \n",
        "    x = x + 2\n",
        "\n",
        "print(\"1 + 3 + 5 + 7 + 9 = \", sum)"
      ],
      "execution_count": 6,
      "outputs": [
        {
          "output_type": "stream",
          "text": [
            "1 + 3 + 5 + 7 + 9 =  25\n"
          ],
          "name": "stdout"
        }
      ]
    },
    {
      "cell_type": "code",
      "metadata": {
        "id": "ej0hFAB6yugo",
        "colab_type": "code",
        "colab": {
          "base_uri": "https://localhost:8080/",
          "height": 34
        },
        "outputId": "a850f170-e2e4-4b66-ca9a-aa4aae7b02aa"
      },
      "source": [
        "sum = 0\n",
        "i = 0\n",
        "while sum <= 1000:\n",
        "    i += 1\n",
        "    sum += i*i\n",
        "print('最⼩的n值為', i)"
      ],
      "execution_count": 7,
      "outputs": [
        {
          "output_type": "stream",
          "text": [
            "最⼩的n值為 14\n"
          ],
          "name": "stdout"
        }
      ]
    }
  ]
}